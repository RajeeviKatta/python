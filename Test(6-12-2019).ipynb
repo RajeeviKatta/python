{
 "cells": [
  {
   "cell_type": "markdown",
   "metadata": {},
   "source": [
    "# 1. Write a python program to generate and display the next date of given date. "
   ]
  },
  {
   "cell_type": "code",
   "execution_count": 3,
   "metadata": {},
   "outputs": [
    {
     "name": "stdout",
     "output_type": "stream",
     "text": [
      "enter today's date: 6\n",
      "enter month: 12\n",
      "enter year: 2019\n",
      "7 - 12 - 2019\n"
     ]
    }
   ],
   "source": [
    "d=int(input(\"enter today's date: \"))\n",
    "m=int(input(\"enter month: \"))\n",
    "y=int(input(\"enter year: \"))\n",
    "print(d+1,\"-\",m,\"-\",y)"
   ]
  },
  {
   "cell_type": "markdown",
   "metadata": {},
   "source": [
    "# 2. Given string containing uppercase charecter(A-Z) compress the string using run length encoding. Repitition of charecter has to be replaced by storing the length of that run  "
   ]
  },
  {
   "cell_type": "markdown",
   "metadata": {},
   "source": [
    "## Ex: Input: AAAABBBBCCCCCCCC \n",
    "##       Output: 4A4B8C  "
   ]
  },
  {
   "cell_type": "code",
   "execution_count": 24,
   "metadata": {},
   "outputs": [
    {
     "name": "stdout",
     "output_type": "stream",
     "text": [
      "enter a stringAABB\n",
      "1 A 2 A 1 B\n",
      "2 B\n"
     ]
    }
   ],
   "source": [
    "s=input(\"enter a string\")\n",
    "c=0\n",
    "t=0\n",
    "for i in s:\n",
    "    if ord(i)==65:\n",
    "        c=c+1\n",
    "        print(c,i,end=\" \")\n",
    "    elif ord(i)==66:\n",
    "        t=t+1\n",
    "        print(t,i)\n",
    "    "
   ]
  },
  {
   "cell_type": "code",
   "execution_count": 23,
   "metadata": {},
   "outputs": [
    {
     "name": "stdout",
     "output_type": "stream",
     "text": [
      "enter a stringAAADD\n",
      "1 A1\n"
     ]
    }
   ],
   "source": [
    "s=input(\"enter a string\")\n",
    "c=0\n",
    "j=65\n",
    "for i in s:\n",
    "    if ord(i)==j:\n",
    "        c=c+1\n",
    "        j=j+1\n",
    "        print(c,i,end=\"\")\n",
    "print(c)  \n",
    "            \n",
    "        \n",
    "   \n",
    "    "
   ]
  },
  {
   "cell_type": "code",
   "execution_count": 22,
   "metadata": {},
   "outputs": [
    {
     "data": {
      "text/plain": [
       "Counter({'A': 4, 'B': 4, 'C': 8})"
      ]
     },
     "execution_count": 22,
     "metadata": {},
     "output_type": "execute_result"
    }
   ],
   "source": [
    "from collections import Counter\n",
    "str='AAAABBBBCCCCCCCC'\n",
    "a=list(str)\n",
    "Counter(a)\n",
    "    "
   ]
  },
  {
   "cell_type": "code",
   "execution_count": null,
   "metadata": {},
   "outputs": [],
   "source": []
  }
 ],
 "metadata": {
  "kernelspec": {
   "display_name": "Python 3",
   "language": "python",
   "name": "python3"
  },
  "language_info": {
   "codemirror_mode": {
    "name": "ipython",
    "version": 3
   },
   "file_extension": ".py",
   "mimetype": "text/x-python",
   "name": "python",
   "nbconvert_exporter": "python",
   "pygments_lexer": "ipython3",
   "version": "3.7.4"
  }
 },
 "nbformat": 4,
 "nbformat_minor": 2
}
