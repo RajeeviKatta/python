{
 "cells": [
  {
   "cell_type": "markdown",
   "metadata": {},
   "source": [
    "### Concepts\n",
    "- Basics\n",
    "- Datatypes and Conersions\n",
    "- Control Statements\n",
    "    - Conditional Statements\n",
    "    - Looping Statements\n",
    "- Functional Programming\n",
    "- List, Tuples, Sets and Dict\n",
    "- External Packages\n",
    "    - Math\n",
    "- Regular Expressions\n",
    "- File Handling\n",
    "    - Reading the file Data\n",
    "    - Writing the file Data\n",
    "    - Perform the Operations on the file\n",
    "- OOPS\n",
    "    - Class\n",
    "    - Objects\n",
    "    - Methods\n",
    "    - Contstuctors\n",
    "    - Inheritance\n",
    "    - Polymerphism\n",
    "- Exception Handling\n",
    "- List Comprehances, Lambda Expression"
   ]
  },
  {
   "cell_type": "markdown",
   "metadata": {},
   "source": [
    "## Functional Programming\n",
    "- Reduce the complex\n",
    "- Reusable block\n",
    "- Divides the lengthy program into Sub blocks so that it is easy for read\n",
    "- Camel case (Function name or variable name)\n"
   ]
  },
  {
   "cell_type": "code",
   "execution_count": null,
   "metadata": {},
   "outputs": [],
   "source": [
    "def funName(<Parameters>):\n",
    "    return"
   ]
  },
  {
   "cell_type": "code",
   "execution_count": 2,
   "metadata": {},
   "outputs": [
    {
     "name": "stdout",
     "output_type": "stream",
     "text": [
      "test() function....\n"
     ]
    }
   ],
   "source": [
    "def test():\n",
    "    print(\"test() function....\")\n",
    "    return\n",
    "test() # function without parameters and without return value"
   ]
  },
  {
   "cell_type": "code",
   "execution_count": 3,
   "metadata": {},
   "outputs": [
    {
     "data": {
      "text/plain": [
       "'Dyanahita'"
      ]
     },
     "execution_count": 3,
     "metadata": {},
     "output_type": "execute_result"
    }
   ],
   "source": [
    "def isTest():\n",
    "    return \"Dyanahita\"\n",
    "isTest()"
   ]
  },
  {
   "cell_type": "code",
   "execution_count": 4,
   "metadata": {},
   "outputs": [
    {
     "data": {
      "text/plain": [
       "10"
      ]
     },
     "execution_count": 4,
     "metadata": {},
     "output_type": "execute_result"
    }
   ],
   "source": [
    "def isTest(a):\n",
    "    return a\n",
    "a=10\n",
    "isTest(a)"
   ]
  },
  {
   "cell_type": "code",
   "execution_count": 8,
   "metadata": {},
   "outputs": [
    {
     "name": "stdout",
     "output_type": "stream",
     "text": [
      "[1, 2, 3] <class 'list'>\n"
     ]
    }
   ],
   "source": [
    "def isTest(a):\n",
    "    return a\n",
    "a = [1,2,3]\n",
    "print(isTest(a),type(a))"
   ]
  },
  {
   "cell_type": "code",
   "execution_count": 11,
   "metadata": {},
   "outputs": [
    {
     "data": {
      "text/plain": [
       "list"
      ]
     },
     "execution_count": 11,
     "metadata": {},
     "output_type": "execute_result"
    }
   ],
   "source": [
    "def isTest(a):\n",
    "    return type(a)\n",
    "a = [1,2,3]\n",
    "isTest(a)"
   ]
  },
  {
   "cell_type": "markdown",
   "metadata": {},
   "source": [
    "### Coding Standards\n",
    "- Variable Name   : num,num_test, numTest\n",
    "- Function Name   : fun1(), fun_test, funTest()\n",
    "- Constructor Name: __init__\n",
    "- Class Name      : Demo(), DemoAbc()\n",
    "- import : import packagename\n",
    "- import : from packagename import function1, function2,..."
   ]
  },
  {
   "cell_type": "markdown",
   "metadata": {},
   "source": [
    "### External Packages : import statements re,math pandas mathlib.......\n",
    "### website :  Regexpal\n",
    "### Regular expressions Creating\n",
    "- Checking for Number\n",
    "- Checking for Lower case and Upper case\n",
    "- Checking for Special Charecter"
   ]
  },
  {
   "cell_type": "code",
   "execution_count": 17,
   "metadata": {},
   "outputs": [
    {
     "name": "stdout",
     "output_type": "stream",
     "text": [
      "True\n",
      "False\n"
     ]
    }
   ],
   "source": [
    "import re\n",
    "def two_digit_match(n):\n",
    "    pattern = '^[0-9]{2}$'\n",
    "    n= str(n)\n",
    "    if re.match(pattern,n):\n",
    "        return True\n",
    "    return False\n",
    "print(two_digit_match(12))#True\n",
    "print(two_digit_match(123))# False"
   ]
  },
  {
   "cell_type": "code",
   "execution_count": 18,
   "metadata": {},
   "outputs": [
    {
     "name": "stdout",
     "output_type": "stream",
     "text": [
      "x\n"
     ]
    }
   ],
   "source": [
    "if True:\n",
    "    print(\"x\")\n",
    "else:\n",
    "    print('y')"
   ]
  },
  {
   "cell_type": "code",
   "execution_count": 19,
   "metadata": {},
   "outputs": [
    {
     "name": "stdout",
     "output_type": "stream",
     "text": [
      "True\n",
      "False\n"
     ]
    }
   ],
   "source": [
    "# Lower case upper case\n",
    "# 6 min -12 max\n",
    "def uname_validate(uname):\n",
    "    pattern = '^[A-Z][a-z A-Z]{5,11}$'\n",
    "    if re.match(pattern,uname):\n",
    "        return True\n",
    "    return False\n",
    "print(uname_validate('Rajeevi'))\n",
    "print(uname_validate('abcdefghijklmnopqrs'))"
   ]
  },
  {
   "cell_type": "code",
   "execution_count": 21,
   "metadata": {},
   "outputs": [
    {
     "name": "stdout",
     "output_type": "stream",
     "text": [
      "True\n",
      "False\n"
     ]
    }
   ],
   "source": [
    "# Validate - DHS00120\n",
    "# DHS00120 - DHS00999\n",
    "\n",
    "def rNum(rnum):\n",
    "    pattern = '^[D][H][S][0]{2}[1-9][2-9][0-9]$^[6-9][0-9]{9}$'\n",
    "    if re.match(pattern,rnum):\n",
    "        return True\n",
    "    return False\n",
    "print(rNum('DHS00120'))\n",
    "print(rNum('DHS00111'))"
   ]
  },
  {
   "cell_type": "code",
   "execution_count": 33,
   "metadata": {},
   "outputs": [
    {
     "name": "stdout",
     "output_type": "stream",
     "text": [
      "True\n",
      "True\n",
      "True\n",
      "False\n"
     ]
    }
   ],
   "source": [
    "# Indian Mobile Number\n",
    "# 6988776644\n",
    "# 09988776644\n",
    "# +91-9988776644\n",
    "\n",
    "def rNum(rnum):\n",
    "    pattern = '^[6-9][0-9]{9}$|^[0][6-9][0-9]{9}$|^[+][9][1][-][9][0-9]{9}$'\n",
    "    if re.match(pattern,rnum):\n",
    "        return True\n",
    "    return False\n",
    "print(rNum('6988776644'))\n",
    "print(rNum('09988776644'))\n",
    "print(rNum('+91-9988776644'))\n",
    "print(rNum('91-9988776644'))\n"
   ]
  },
  {
   "cell_type": "code",
   "execution_count": null,
   "metadata": {},
   "outputs": [],
   "source": [
    "# Username validate\n",
    "# Should need to contains one upper case\n",
    "# 6 lower case, 1 Digit"
   ]
  },
  {
   "cell_type": "code",
   "execution_count": null,
   "metadata": {},
   "outputs": [],
   "source": []
  },
  {
   "cell_type": "code",
   "execution_count": null,
   "metadata": {},
   "outputs": [],
   "source": []
  }
 ],
 "metadata": {
  "kernelspec": {
   "display_name": "Python 3",
   "language": "python",
   "name": "python3"
  },
  "language_info": {
   "codemirror_mode": {
    "name": "ipython",
    "version": 3
   },
   "file_extension": ".py",
   "mimetype": "text/x-python",
   "name": "python",
   "nbconvert_exporter": "python",
   "pygments_lexer": "ipython3",
   "version": "3.7.4"
  }
 },
 "nbformat": 4,
 "nbformat_minor": 2
}
